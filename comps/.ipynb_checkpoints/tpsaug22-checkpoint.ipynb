{
 "cells": [
  {
   "cell_type": "code",
   "execution_count": null,
   "id": "aa825f15-a521-4052-b242-cdefc61d9fc6",
   "metadata": {},
   "outputs": [],
   "source": [
    "import pandas as pd\n",
    "import numpy as np\n",
    "\n",
    "from matplotlib import pyplot as plt\n",
    "import seaborn as sns"
   ]
  },
  {
   "cell_type": "code",
   "execution_count": null,
   "id": "e13de029-29f3-49a2-bde2-b671716e730d",
   "metadata": {},
   "outputs": [],
   "source": [
    "train_df = pd.read_csv('data/train.csv', index_col='id')\n",
    "num_only_train_df = train_df.drop(train_df.columns[[0,2,3]], axis=1)"
   ]
  },
  {
   "cell_type": "code",
   "execution_count": null,
   "id": "c2f07a0a-103b-4462-b84d-9b8cdbe41ab2",
   "metadata": {},
   "outputs": [],
   "source": [
    "subset_num_only_train_df = num_only_train_df[numeric_only_train_df.columns[[0, 1, 2, 3, -1]]]"
   ]
  },
  {
   "cell_type": "code",
   "execution_count": null,
   "id": "9f30d973-dfbc-41dc-b0a1-9b830fadf343",
   "metadata": {},
   "outputs": [],
   "source": [
    "sns.pairplot(subset_num_only_train_df, hue='failure')\n",
    "plt.show()"
   ]
  },
  {
   "cell_type": "code",
   "execution_count": null,
   "id": "95911193-09d2-4652-b41f-d49efde6fb6c",
   "metadata": {},
   "outputs": [],
   "source": []
  }
 ],
 "metadata": {
  "kernelspec": {
   "display_name": "kaggle",
   "language": "python",
   "name": "kaggle"
  },
  "language_info": {
   "codemirror_mode": {
    "name": "ipython",
    "version": 3
   },
   "file_extension": ".py",
   "mimetype": "text/x-python",
   "name": "python",
   "nbconvert_exporter": "python",
   "pygments_lexer": "ipython3",
   "version": "3.7.13"
  }
 },
 "nbformat": 4,
 "nbformat_minor": 5
}
